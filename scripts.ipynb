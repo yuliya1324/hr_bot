{
 "cells": [
  {
   "cell_type": "code",
   "execution_count": 32,
   "id": "ad54acea",
   "metadata": {},
   "outputs": [],
   "source": [
    "import sqlite3"
   ]
  },
  {
   "cell_type": "code",
   "execution_count": 43,
   "id": "8cc1e8a7",
   "metadata": {},
   "outputs": [],
   "source": [
    "sqlite_connection = sqlite3.connect('database.db')"
   ]
  },
  {
   "cell_type": "code",
   "execution_count": 44,
   "id": "64ce56b4",
   "metadata": {},
   "outputs": [],
   "source": [
    "cursor = sqlite_connection.cursor()"
   ]
  },
  {
   "cell_type": "markdown",
   "id": "a6d7474d",
   "metadata": {},
   "source": [
    "### 1. Вывести всех людей, записанных на собеседование 25.06\n",
    "\n",
    "Вывести ФИО этих людей, их номера телефона и вакансии, на которые они подаются (join)"
   ]
  },
  {
   "cell_type": "code",
   "execution_count": 35,
   "id": "405868ca",
   "metadata": {},
   "outputs": [],
   "source": [
    "query = \"\"\"\n",
    "select day, time, vacancies.name, applicants.name, applicants.number from calendar\n",
    "join applicants on applicants.id = calendar.applicant_id\n",
    "join vacancies on vacancies.id = calendar.vacancy_id\n",
    "where calendar.day = 25.06\n",
    "\"\"\""
   ]
  },
  {
   "cell_type": "code",
   "execution_count": 36,
   "id": "e828f868",
   "metadata": {},
   "outputs": [
    {
     "data": {
      "text/plain": [
       "[(25.06,\n",
       "  '10:00',\n",
       "  'Менеджер по подбору персонала',\n",
       "  'Иванов Иван Иванович',\n",
       "  '+79995553535'),\n",
       " (25.06,\n",
       "  '11:00',\n",
       "  'Администратор (м. Ясенево)',\n",
       "  'Иванов Иван Иванович',\n",
       "  '+79995553535'),\n",
       " (25.06,\n",
       "  '18:00',\n",
       "  'Повар горячего цеха',\n",
       "  'Сидорова Елена Александровна',\n",
       "  '+79998553535')]"
      ]
     },
     "execution_count": 36,
     "metadata": {},
     "output_type": "execute_result"
    }
   ],
   "source": [
    "res = cursor.execute(query)\n",
    "res.fetchall()"
   ]
  },
  {
   "cell_type": "markdown",
   "id": "f093c20b",
   "metadata": {},
   "source": [
    "### 2. Вывести, сколько собеседований у каждого человека в день\n",
    "\n",
    "Вывести день, ФИО и количество собеседований (агрегация)"
   ]
  },
  {
   "cell_type": "code",
   "execution_count": 49,
   "id": "e23eb3ed",
   "metadata": {},
   "outputs": [],
   "source": [
    "query = \"\"\"\n",
    "select calendar.day, applicants.name, count(*) from calendar\n",
    "join applicants on applicants.id = calendar.applicant_id\n",
    "join vacancies on vacancies.id = calendar.vacancy_id\n",
    "GROUP BY calendar.day, applicants.id\n",
    "\"\"\""
   ]
  },
  {
   "cell_type": "code",
   "execution_count": 50,
   "id": "93f58244",
   "metadata": {},
   "outputs": [
    {
     "data": {
      "text/plain": [
       "[(25.06, 'Сидорова Елена Александровна', 1),\n",
       " (25.06, 'Иванов Иван Иванович', 2),\n",
       " (26.06, 'Сидорова Елена Александровна', 1)]"
      ]
     },
     "execution_count": 50,
     "metadata": {},
     "output_type": "execute_result"
    }
   ],
   "source": [
    "res = cursor.execute(query)\n",
    "res.fetchall()"
   ]
  },
  {
   "cell_type": "markdown",
   "id": "487b1404",
   "metadata": {},
   "source": [
    "### 3. Вывести всю информацию о вакансиях, на которые есть собеседования\n",
    "\n",
    "(вложенный select)"
   ]
  },
  {
   "cell_type": "code",
   "execution_count": 55,
   "id": "49eaf175",
   "metadata": {},
   "outputs": [],
   "source": [
    "query = \"\"\"\n",
    "select * from vacancies\n",
    "where vacancies.id in (\n",
    "        select vacancy_id from calendar\n",
    "    )\n",
    "\"\"\""
   ]
  },
  {
   "cell_type": "code",
   "execution_count": 56,
   "id": "13d20e7d",
   "metadata": {},
   "outputs": [
    {
     "data": {
      "text/plain": [
       "[(43068111,\n",
       "  'Повар горячего цеха',\n",
       "  'Санкт-Петербург',\n",
       "  0,\n",
       "  'опыт работы на позициях: повар-универсал, повар холодного цеха, повар горячего цеха, повар открытой кухни, повар-кулинар от 6 месяцев;\\nсреднее профессиональное образование (училище, колледж, техникум) или высшее приветствуется;\\nдоброжелательность, энергичность, аккуратность;\\nжелание и умение работать в команде;\\nналичие санитарной книжки (с действительными сроками медицинского обследования) или готовность ее сделать.',\n",
       "  'оформление согласно ТК РФ;\\nполный социальный пакет;\\nбелая заработная плата: оклад 42432 руб. (за 180 часов) + премии + бонусы - НДФЛ;\\nкомпенсация проезда 3741 руб. и бонус за некурение 500 руб. с первого месяца;\\nвозможность повысить категорию и доход уже с первого месяца работы;\\nграфик работы: 2/2 или 3/3 по 12 часов;\\nвыплаты заработной платы 3 раза в месяц;\\nкорпоративное питание, стильная униформа;\\nДМС через 1 год работы в Компании;\\nсофинансирование занятий спортом;\\nобучение, возможности карьерного роста;\\nскидки на продукцию сети 25%.',\n",
       "  'приготовление блюд европейской кухни, салатов и завтраков, блюд на гриле, согласно рецептуре;\\nприготовление заготовок;\\nсоблюдение санитарных норм;\\nпроведение инвентаризаций;\\nподдержание чистоты на рабочем месте.'),\n",
       " (43908781,\n",
       "  'Администратор (м. Ясенево)',\n",
       "  'Москва',\n",
       "  3,\n",
       "  'Опыт работы менеджером, администратором в общественном питании от 1 года обязателен!\\nУспешный опыт руководства коллективом\\nСпособность вдохновлять сотрудников на эффективную работу\\nВысокий социальный интеллект и отличные коммуникативные навыки',\n",
       "  'Работу в компании, где своя атмосфера, где каждый является важной единицей, от действий которой зависит успех Компании!   Присоединиться к команде счастливых на работе людей\\nДушевный коллектив\\nГрафик работы 2/2 с 9.00 до 21.00\\nОформление согласно ТК РФ\\nЗаработная плата: оклад 46000 руб., компенсация проезда 3330 руб., бонус за некурение 500 руб. с первого месяца работы + премия по итогам работы\\nБесплатное питание\\nДополнительный корпоративный социальный пакет\\nСкидки на продукцию сети\\nОбучение и развитие внутри компании\\nТерриториальная расположенность рядом с метро.',\n",
       "  'Поддержание и улучшение качества обслуживания\\nКонтроль и организация работы персонала пекарни-кондитерской в соответствии со стандартами буше\\nПомощь администратору в управлении персоналом, с заказом и приемкой сырья (работа в программе 1С, Tillipad)\\nИнвентаризация\\nЗакрытие кассового дня, отчетность\\nОткрытие, закрытие пекарни-кондитерской'),\n",
       " (44569588,\n",
       "  'Помощник кондитера',\n",
       "  'Санкт-Петербург',\n",
       "  0,\n",
       "  'Большое желание развиваться в кондитерском деле;\\nАккуратность;\\nОтветственность;\\nБазовые навыки работы с декором и шоколадом.',\n",
       "  'современное и стабильное производство (работаем 22 года!)\\nоформление согласно ТК РФ;\\nполный социальный пакет;\\nбелая заработная плата\\r\\nкомпенсация проезда 3741 руб, бонус за здоровый образ жизни 500 руб;\\nграфик работы: 4/4 07.00 до 19.00;\\nбесплатное питание, комфортная униформа;\\nДМС через 1 год работы в Компании;\\nобучение, возможность карьерного роста;\\nскидки на продукцию сети 25%;\\nсофинансирование спорта.',\n",
       "  'Изготовление тарталеток и этикеток в нужном количестве\\nСмешивание ингредиентов в соответствии с технологическим картами\\nЗамес кондитерских полуфабрикатов\\nФормировка кондитерских изделий, декорирование продукции'),\n",
       " (45507457,\n",
       "  'Менеджер по подбору персонала',\n",
       "  'Москва',\n",
       "  1,\n",
       "  'Имеет высшее образование\\nИмеет опыт работы в сфере подбора персонала – от 2 лет\\nУспешно закрывал вакансии разного уровня сложности и знает технологии подбора персонала\\nИмеет высокую скорость в работе, быструю обучаемость, ориентирован на результат\\nГотов работать в режиме многозадачности, эффективно расставляя приоритеты\\nСамостоятелен, инициативен, проактивен в работе и собственном развитии\\nУмеет и любит работать в команде, вовлечен в общее дело.',\n",
       "  'Официальное оформление в штат компании и полностью белая ЗП\\nВсесторонняя поддержка HR-команды Санкт-Петербурга\\nУ нас нет дресс-кода, ты можешь оставаться собой ✌️\\nГрафик работы 5/2 с 9:15 до 18:00, в пятницу работаем до 17:00\\nРабочее место в центре города\\nКомпенсация проезда до места работы и бонус за здоровый образ жизни\\nБесплатное корпоративное питание\\nКомпенсация занятий спортом\\nДМС\\r\\nВозможности для обучения и развития внутри компании',\n",
       "  'Поиск и подбор персонала на линейные позиции\\nРабота со входящими/исходящими звонками, письмами\\nВедение отчетности и статистики по проделанной работе, составление аналитических отчётов\\nРабота с различными job –ресурсами: job –сайты, социальные сети и пр.\\nУчастие в разработке и реализации рекламной кампании для привлечения соискателей\\nПроведение интервью по компетенциям, составление профиля кандидата, поиск того самого\\nУчастие в других проектах отдела персонала')]"
      ]
     },
     "execution_count": 56,
     "metadata": {},
     "output_type": "execute_result"
    }
   ],
   "source": [
    "res = cursor.execute(query)\n",
    "res.fetchall()"
   ]
  },
  {
   "cell_type": "markdown",
   "id": "671c5b75",
   "metadata": {},
   "source": [
    "### 4. Вывести дату и время собеседования в Москве с людьми старше 20\n",
    "\n",
    "(Where с объединением трёх таблиц в where)"
   ]
  },
  {
   "cell_type": "code",
   "execution_count": 71,
   "id": "fe18eb1a",
   "metadata": {},
   "outputs": [],
   "source": [
    "query = \"\"\"\n",
    "select day, time from calendar\n",
    "where calendar.vacancy_id in (\n",
    "        select id from vacancies\n",
    "        where city = \"Москва\"\n",
    "    ) and\n",
    "    calendar.applicant_id in (\n",
    "        select id from applicants\n",
    "        where age > 20\n",
    "    )\n",
    "\"\"\""
   ]
  },
  {
   "cell_type": "code",
   "execution_count": 72,
   "id": "7955a473",
   "metadata": {},
   "outputs": [
    {
     "data": {
      "text/plain": [
       "[(25.06, '10:00'), (25.06, '11:00')]"
      ]
     },
     "execution_count": 72,
     "metadata": {},
     "output_type": "execute_result"
    }
   ],
   "source": [
    "res = cursor.execute(query)\n",
    "res.fetchall()"
   ]
  },
  {
   "cell_type": "markdown",
   "id": "c7816bc8",
   "metadata": {},
   "source": [
    "### 5. CRUD"
   ]
  },
  {
   "cell_type": "markdown",
   "id": "6670adb3",
   "metadata": {},
   "source": [
    "Добавить новое собеседование (Update)"
   ]
  },
  {
   "cell_type": "code",
   "execution_count": 74,
   "id": "fdd0ecc6",
   "metadata": {},
   "outputs": [],
   "source": [
    "update = \"\"\"\n",
    "update calendar\n",
    "set applicant_id = 0, vacancy_id = 43068111\n",
    "where day = 25.06 and time = \"15:00\"\n",
    "\"\"\""
   ]
  },
  {
   "cell_type": "code",
   "execution_count": 75,
   "id": "1799b7cb",
   "metadata": {},
   "outputs": [
    {
     "data": {
      "text/plain": [
       "<sqlite3.Cursor at 0x23963a34ab0>"
      ]
     },
     "execution_count": 75,
     "metadata": {},
     "output_type": "execute_result"
    }
   ],
   "source": [
    "cursor.execute(update)"
   ]
  },
  {
   "cell_type": "code",
   "execution_count": 76,
   "id": "016e1bd3",
   "metadata": {},
   "outputs": [],
   "source": [
    "sqlite_connection.commit()"
   ]
  },
  {
   "cell_type": "markdown",
   "id": "265c2fe0",
   "metadata": {},
   "source": [
    "Убрать нерелевантную вакансию (Delete)"
   ]
  },
  {
   "cell_type": "code",
   "execution_count": 78,
   "id": "d905a292",
   "metadata": {},
   "outputs": [],
   "source": [
    "cursor.execute(\"DELETE FROM vacancies WHERE id = 45507457\")\n",
    "sqlite_connection.commit()"
   ]
  },
  {
   "cell_type": "markdown",
   "id": "78bbabc9",
   "metadata": {},
   "source": [
    "### Triggers"
   ]
  },
  {
   "cell_type": "code",
   "execution_count": 80,
   "id": "82719485",
   "metadata": {
    "collapsed": true
   },
   "outputs": [
    {
     "ename": "OperationalError",
     "evalue": "trigger offer already exists",
     "output_type": "error",
     "traceback": [
      "\u001b[1;31m---------------------------------------------------------------------------\u001b[0m",
      "\u001b[1;31mOperationalError\u001b[0m                          Traceback (most recent call last)",
      "\u001b[1;32m~\\AppData\\Local\\Temp/ipykernel_16368/3799952427.py\u001b[0m in \u001b[0;36m<module>\u001b[1;34m\u001b[0m\n\u001b[1;32m----> 1\u001b[1;33m cursor.execute(\n\u001b[0m\u001b[0;32m      2\u001b[0m     '''CREATE TRIGGER offer\n\u001b[0;32m      3\u001b[0m              \u001b[0mAFTER\u001b[0m \u001b[0mINSERT\u001b[0m \u001b[0mON\u001b[0m \u001b[0mapplicants\u001b[0m\u001b[1;33m\u001b[0m\u001b[1;33m\u001b[0m\u001b[0m\n\u001b[0;32m      4\u001b[0m              \u001b[0mwhen\u001b[0m \u001b[0mnew\u001b[0m\u001b[1;33m.\u001b[0m\u001b[0mage\u001b[0m \u001b[1;33m<\u001b[0m \u001b[1;36m18\u001b[0m\u001b[1;33m\u001b[0m\u001b[1;33m\u001b[0m\u001b[0m\n\u001b[0;32m      5\u001b[0m              \u001b[0mBEGIN\u001b[0m\u001b[1;33m\u001b[0m\u001b[1;33m\u001b[0m\u001b[0m\n",
      "\u001b[1;31mOperationalError\u001b[0m: trigger offer already exists"
     ]
    }
   ],
   "source": [
    "cursor.execute(\n",
    "    '''CREATE TRIGGER offer\n",
    "             AFTER INSERT ON applicants\n",
    "             when new.age < 18\n",
    "             BEGIN\n",
    "                 SELECT RAISE (ABORT, 'underage!');\n",
    "             END\n",
    "             ;\n",
    "             ''')"
   ]
  },
  {
   "cell_type": "code",
   "execution_count": 81,
   "id": "12710e44",
   "metadata": {},
   "outputs": [
    {
     "ename": "IntegrityError",
     "evalue": "underage!",
     "output_type": "error",
     "traceback": [
      "\u001b[1;31m---------------------------------------------------------------------------\u001b[0m",
      "\u001b[1;31mIntegrityError\u001b[0m                            Traceback (most recent call last)",
      "\u001b[1;32m~\\AppData\\Local\\Temp/ipykernel_16368/717487230.py\u001b[0m in \u001b[0;36m<module>\u001b[1;34m\u001b[0m\n\u001b[1;32m----> 1\u001b[1;33m \u001b[0mcursor\u001b[0m\u001b[1;33m.\u001b[0m\u001b[0mexecute\u001b[0m\u001b[1;33m(\u001b[0m\u001b[1;34m\"INSERT INTO applicants (name, city, age) VALUES ('Миша', 'Москва', 15)\"\u001b[0m\u001b[1;33m)\u001b[0m\u001b[1;33m\u001b[0m\u001b[1;33m\u001b[0m\u001b[0m\n\u001b[0m\u001b[0;32m      2\u001b[0m \u001b[0mconnection\u001b[0m\u001b[1;33m.\u001b[0m\u001b[0mcommit\u001b[0m\u001b[1;33m(\u001b[0m\u001b[1;33m)\u001b[0m\u001b[1;33m\u001b[0m\u001b[1;33m\u001b[0m\u001b[0m\n",
      "\u001b[1;31mIntegrityError\u001b[0m: underage!"
     ]
    }
   ],
   "source": [
    "cursor.execute(\"INSERT INTO applicants (name, city, age) VALUES ('Миша', 'Москва', 15)\")\n",
    "sqlite_connection.commit()"
   ]
  },
  {
   "cell_type": "code",
   "execution_count": null,
   "id": "48076516",
   "metadata": {},
   "outputs": [],
   "source": []
  }
 ],
 "metadata": {
  "kernelspec": {
   "display_name": "Python 3",
   "language": "python",
   "name": "python3"
  },
  "language_info": {
   "codemirror_mode": {
    "name": "ipython",
    "version": 3
   },
   "file_extension": ".py",
   "mimetype": "text/x-python",
   "name": "python",
   "nbconvert_exporter": "python",
   "pygments_lexer": "ipython3",
   "version": "3.8.5 (tags/v3.8.5:580fbb0, Jul 20 2020, 15:57:54) [MSC v.1924 64 bit (AMD64)]"
  },
  "vscode": {
   "interpreter": {
    "hash": "5d609abd5eba44aca7977447e03e2165417dba7727add115454fdf20fd0ac4b1"
   }
  }
 },
 "nbformat": 4,
 "nbformat_minor": 5
}
